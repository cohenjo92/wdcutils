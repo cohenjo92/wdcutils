{
 "cells": [
  {
   "cell_type": "markdown",
   "metadata": {},
   "source": [
    "# Notebook for testing performance of NLU Sentiment\n",
    "[Watson Developer Cloud](https://www.ibm.com/watsondevelopercloud) is a platform of cognitive services that leverage machine learning techniques to help partners and clients solve a variety business problems. \n",
    "\n",
    "It is critical to understand that training a machine learning solution is an iterative process where it is important to continually improve the solution by providing new examples and measuring the performance of the trained solution. In this notebook, we show how you can compute important Machine Learning metrics (accuracy, precision, recall, confusion_matrix) to judge the performance of your solution. For more details on these various metrics, please consult the **[Is Your Chatbot Ready for Prime-Time?](https://developer.ibm.com/dwblog/2016/chatbot-cognitive-performance-metrics-accuracy-precision-recall-confusion-matrix/)** blog.\n"
   ]
  },
  {
   "cell_type": "markdown",
   "metadata": {},
   "source": [
    "<br> The notebook assumes you have already created a Watson [Natural Language Understanding](https://www.ibm.com/watson/services/natural-language-understanding/) instance. </br>\n",
    "<br> To leverage this notebook, you need to provide the following information</br>\n",
    "* Credentials for your NLU instance (username and password)\n",
    "* csv file with your text utterances and corresponding sentiment labels (positive, negative, neutral)\n",
    "* results csv file to write the results to"
   ]
  },
  {
   "cell_type": "code",
   "execution_count": null,
   "metadata": {
    "collapsed": true
   },
   "outputs": [],
   "source": [
    "# Only run this cell if you don't have pandas_ml or watson_developer_cloud installed\n",
    "!pip install pandas_ml\n",
    "# You can specify the latest verion of watson_developer_cloud (1.0.0 as of November 20, 2017)\n",
    "#!pip install -I watson-developer-cloud==1.0.0\n",
    "## install latest watson developer cloud Python SDK\n",
    "!pip install --upgrade watson-developer-cloud"
   ]
  },
  {
   "cell_type": "code",
   "execution_count": null,
   "metadata": {
    "collapsed": true
   },
   "outputs": [],
   "source": [
    "#Import utilities\n",
    "import json\n",
    "import sys\n",
    "import codecs\n",
    "import unicodecsv as csv\n",
    "from sklearn.metrics import confusion_matrix\n",
    "from sklearn.metrics import precision_recall_fscore_support\n",
    "from sklearn.metrics import classification_report\n",
    "from sklearn.metrics import accuracy_score\n",
    "import matplotlib.pyplot as plt\n",
    "import pandas_ml\n",
    "from pandas_ml import ConfusionMatrix\n",
    "from watson_developer_cloud import NaturalLanguageUnderstandingV1\n",
    "from watson_developer_cloud.natural_language_understanding.features import (v1 as Features)"
   ]
  },
  {
   "cell_type": "markdown",
   "metadata": {},
   "source": [
    "Provide the path to the parms file which includes credentials to access your NLU service as well as the input\n",
    "test csv file and the output csv file to write the output results to."
   ]
  },
  {
   "cell_type": "code",
   "execution_count": null,
   "metadata": {
    "collapsed": true
   },
   "outputs": [],
   "source": [
    "# Sample parms file data\n",
    "#{\n",
    "#\t\"url\": \"https://gateway.watsonplatform.net/natural-language-understanding/api/v1\",\n",
    "#\t\"user\":\"YOUR_NLU_USERNAME\",\n",
    "#\t\"password\": \"YOUR_NLU_PASSWORD\",\n",
    "#\t\"test_csv_file\": \"COMPLETE_PATH_TO_YOUR_TEST_CSV_FILE\",\n",
    "#\t\"results_csv_file\": \"COMPLETE PATH TO RESULTS FILE (any file you can write to)\",\n",
    "#\t\"confmatrix_csv_file\": \"COMPLETE PATH TO CONFUSION MATRIX FILE (any file you can write to)\"\n",
    "#}\n",
    "\n"
   ]
  },
  {
   "cell_type": "code",
   "execution_count": null,
   "metadata": {
    "collapsed": true
   },
   "outputs": [],
   "source": [
    "# Provide complete path to the file which includes all required parms\n",
    "# A sample parms file is included (example_parms.json)\n",
    "nluParmsFile = 'COMPLETE PATH TO YOUR PARMS FILE'\n",
    "parms = ''\n",
    "with open(nluParmsFile) as parmFile:\n",
    "    parms = json.load(parmFile)\n",
    "\n",
    "url=parms['url']\n",
    "user=parms['user']\n",
    "password=parms['password']\n",
    "test_csv_file=parms['test_csv_file']\n",
    "results_csv_file=parms['results_csv_file']\n",
    "confmatrix_csv_file=parms['confmatrix_csv_file']\n",
    "\n",
    "json.dumps(parms)\n",
    "\n",
    "# Create an object for your NLU instance\n",
    "natural_language_understanding = NaturalLanguageUnderstandingV1(\n",
    "    version = '2017-02-27',\n",
    "    username = user,\n",
    "    password = password\n",
    ")\n"
   ]
  },
  {
   "cell_type": "markdown",
   "metadata": {},
   "source": [
    "Define useful methods to return sentiment of text using NLU."
   ]
  },
  {
   "cell_type": "code",
   "execution_count": null,
   "metadata": {
    "collapsed": true
   },
   "outputs": [],
   "source": [
    "# Given a text string and a pointer to NLU instance, get back NLU sentiment response\n",
    "def getNLUresponse(nlu_instance,features,string):\n",
    "    nlu_analysis = natural_language_understanding.analyze(features, string, return_analyzed_text=True)\n",
    "    return nlu_analysis\n",
    "\n",
    "# Process multiple text utterances (provided via csv file) in batch. Effectively, read the csv file and for each text\n",
    "# utterance, get NLU sentiment. Aggregate and return results.\n",
    "def batchNLU(nlu_instance,features,csvfile):\n",
    "    test_labels=[]\n",
    "    nlupredict_labels=[]\n",
    "    nlupredict_score =[]\n",
    "    text=[]\n",
    "    i=0\n",
    "    print ('reading csv file: ', csvfile)\n",
    "    with open(csvfile, 'rb') as csvfile:\n",
    "        # For better handling of utf8 encoded text\n",
    "        csvReader = csv.reader(csvfile, encoding=\"utf-8-sig\")\n",
    "        for row in csvReader:\n",
    "            print(row)\n",
    "            # Assume input text is 2 column csv file, first column is text\n",
    "            # and second column is the label/class/intent\n",
    "            # Sometimes, the text string includes commas which may split\n",
    "            # the text across multiple colmns. The following code handles that.\n",
    "            if len(row) > 2:\n",
    "                qelements = row[0:len(row)-1]\n",
    "                utterance = \",\".join(qelements)\n",
    "                test_labels.append(row[len(row)-1])\n",
    "            else:\n",
    "                utterance = row[0]\n",
    "                test_labels.append(row[1])\n",
    "            utterance = utterance.replace('\\r', ' ')\n",
    "            print ('i: ', i, ' testing row: ', utterance)\n",
    "            \n",
    "            nlu_response = getNLUresponse(nlu_instance,features,utterance)\n",
    "            if nlu_response['sentiment']:\n",
    "                nlupredict_labels.append(nlu_response['sentiment']['document']['label'])\n",
    "                nlupredict_score.append(nlu_response['sentiment']['document']['score'])\n",
    "            else:\n",
    "                nlupredict_labels.append('')\n",
    "                nlupredict_score.append(0)\n",
    "            text.append(utterance)\n",
    "            \n",
    "            i = i+1\n",
    "            if(i%250 == 0):\n",
    "                print(\"\")\n",
    "                print(\"Processed \", i, \" records\")\n",
    "            if(i%10 == 0):\n",
    "                sys.stdout.write('.')\n",
    "        print(\"\")\n",
    "        print(\"Finished processing \", i, \" records\")\n",
    "    return test_labels, nlupredict_labels, nlupredict_score, text\n",
    "\n",
    "# Plot confusion matrix as an image\n",
    "def plot_conf_matrix(conf_matrix):\n",
    "    plt.figure()\n",
    "    plt.imshow(conf_matrix)\n",
    "    plt.show()\n",
    "\n",
    "# Print confusion matrix to a csv file\n",
    "def confmatrix2csv(conf_matrix,labels,csvfile):\n",
    "    with open(csvfile, 'wb') as csvfile:\n",
    "        csvWriter = csv.writer(csvfile)\n",
    "        row=list(labels)\n",
    "        row.insert(0,\"\")\n",
    "        csvWriter.writerow(row)\n",
    "        for i in range(conf_matrix.shape[0]):\n",
    "            row=list(conf_matrix[i])\n",
    "            row.insert(0,labels[i])\n",
    "            csvWriter.writerow(row)\n",
    "            "
   ]
  },
  {
   "cell_type": "code",
   "execution_count": null,
   "metadata": {},
   "outputs": [],
   "source": [
    "# This is an optional step to quickly test response from NLU for a given utterance\n",
    "testQ='it was great talking to your agent '\n",
    "features = {\"sentiment\":{}}\n",
    "results = getNLUresponse(natural_language_understanding,features,testQ)\n",
    "print(json.dumps(results, indent=2))"
   ]
  },
  {
   "cell_type": "markdown",
   "metadata": {},
   "source": [
    "Call NLU on the specified csv file and collect results."
   ]
  },
  {
   "cell_type": "code",
   "execution_count": null,
   "metadata": {},
   "outputs": [],
   "source": [
    "features = {\"sentiment\":{}}\n",
    "test_labels,nlupredict_labels,nlupredict_score,text=batchNLU(natural_language_understanding,features,test_csv_file)"
   ]
  },
  {
   "cell_type": "code",
   "execution_count": null,
   "metadata": {},
   "outputs": [],
   "source": [
    "# print results to csv file including original text, the correct label, \n",
    "# the predicted label and the score reported by NLU.\n",
    "csvfileOut=results_csv_file\n",
    "with open(csvfileOut, 'wb') as csvOut:\n",
    "    outrow=['text','true label','NLU Predicted label','Score']\n",
    "    csvWriter = csv.writer(csvOut,dialect='excel')\n",
    "    csvWriter.writerow(outrow)\n",
    "    for i in range(len(text)):\n",
    "        outrow=[text[i],test_labels[i],nlupredict_labels[i],str(nlupredict_score[i])]\n",
    "        csvWriter.writerow(outrow)"
   ]
  },
  {
   "cell_type": "code",
   "execution_count": null,
   "metadata": {
    "collapsed": true
   },
   "outputs": [],
   "source": [
    "# Compute confusion matrix\n",
    "labels=list(set(test_labels))\n",
    "nlu_confusion_matrix = confusion_matrix(test_labels, nlupredict_labels, labels)\n",
    "nluConfMatrix = ConfusionMatrix(test_labels, nlupredict_labels)"
   ]
  },
  {
   "cell_type": "code",
   "execution_count": null,
   "metadata": {
    "collapsed": true
   },
   "outputs": [],
   "source": [
    "# Print out confusion matrix with labels to csv file\n",
    "confmatrix2csv(nlu_confusion_matrix,labels,confmatrix_csv_file)"
   ]
  },
  {
   "cell_type": "code",
   "execution_count": null,
   "metadata": {},
   "outputs": [],
   "source": [
    "%matplotlib inline\n",
    "nluConfMatrix.plot()"
   ]
  },
  {
   "cell_type": "code",
   "execution_count": null,
   "metadata": {},
   "outputs": [],
   "source": [
    "# Compute accuracy of classification\n",
    "acc=accuracy_score(test_labels, nlupredict_labels)\n",
    "print('Classification Accuracy: ', acc)"
   ]
  },
  {
   "cell_type": "code",
   "execution_count": null,
   "metadata": {},
   "outputs": [],
   "source": [
    "# print precision, recall and f1-scores for the different classes\n",
    "print(classification_report(test_labels, nlupredict_labels, labels=labels))"
   ]
  },
  {
   "cell_type": "code",
   "execution_count": null,
   "metadata": {
    "collapsed": true
   },
   "outputs": [],
   "source": [
    "#Optional if you would like each of these metrics separately\n",
    "#[precision,recall,fscore,support]=precision_recall_fscore_support(test_labels, nlupredict_labels, labels=labels)\n",
    "#print(\"precision: \", precision)\n",
    "#print(\"recall: \", recall)\n",
    "#print(\"f1 score: \", fscore)\n",
    "#print(\"support: \", support)"
   ]
  },
  {
   "cell_type": "code",
   "execution_count": null,
   "metadata": {
    "collapsed": true
   },
   "outputs": [],
   "source": []
  }
 ],
 "metadata": {
  "kernelspec": {
   "display_name": "Python 2",
   "language": "python",
   "name": "python2"
  },
  "language_info": {
   "codemirror_mode": {
    "name": "ipython",
    "version": 2
   },
   "file_extension": ".py",
   "mimetype": "text/x-python",
   "name": "python",
   "nbconvert_exporter": "python",
   "pygments_lexer": "ipython2",
   "version": "2.7.13"
  }
 },
 "nbformat": 4,
 "nbformat_minor": 1
}
